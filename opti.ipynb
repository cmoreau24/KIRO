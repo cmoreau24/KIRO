{
 "cells": [
  {
   "cell_type": "code",
   "execution_count": 5,
   "metadata": {},
   "outputs": [],
   "source": [
    "import json\n",
    "import numpy as np\n",
    "import cvxpy as cp"
   ]
  },
  {
   "cell_type": "code",
   "execution_count": null,
   "metadata": {},
   "outputs": [],
   "source": [
    "with open(\"C:/Users/morea/OneDrive/Documents/2A/REOP/KIRO/small_1.json\", 'r') as file:\n",
    "    data = json.load(file)\n",
    "\n",
    "vehicles = {}\n",
    "for i in range(len(data[\"vehicles\"])):\n",
    "    vehicles[i+1] = data[\"vehicles\"][i][\"type\"]\n",
    "\n",
    "constraints = []\n",
    "for i in range(len(data[\"constraints\"])):\n",
    "    constraints.append(data[\"constraints\"][i])\n",
    "\n",
    "lag = {}\n",
    "for i in range(len(data[\"shops\"])):\n",
    "    lag[data[\"shops\"][i][\"name\"]] = data[\"shops\"][i][\"resequencing_lag\"]\n",
    "\n",
    "\n",
    "parameters = data[\"parameters\"]"
   ]
  },
  {
   "cell_type": "code",
   "execution_count": null,
   "metadata": {},
   "outputs": [],
   "source": [
    "S=3\n",
    "n= #nb vehicule\n",
    "Rs = [ , , ] # liste des Rs\n"
   ]
  },
  {
   "cell_type": "code",
   "execution_count": 4,
   "metadata": {},
   "outputs": [
    {
     "name": "stdout",
     "output_type": "stream",
     "text": [
      "optimal (x + y == 1) dual variable 0.0\n",
      "optimal (x - y >= 1) dual variable 2.0\n",
      "x - y value: 1.0\n"
     ]
    }
   ],
   "source": [
    "# Create two scalar optimization variables.\n",
    "x = cp.Variable((S,n,n))\n",
    "y = cp.Variable((S,n))\n",
    "zs0 = cp.Variable((0,len(Rs[0]),n))\n",
    "zs1 = cp.Variable((1,len(Rs[1]),n))\n",
    "zs2 = cp.Variable((2,len(Rs[2]),n))\n",
    "g = cp.Variable((S,n,n))\n",
    "\n",
    "# Create two constraints.\n",
    "constraints = [x + y == 1,\n",
    "               x - y >= 1]\n",
    "\n",
    "# Form objective.\n",
    "obj = cp.Minimize((x - y)**2)\n",
    "\n",
    "# Form and solve problem.\n",
    "prob = cp.Problem(obj, constraints)\n",
    "prob.solve()\n",
    "\n",
    "# The optimal dual variable (Lagrange multiplier) for\n",
    "# a constraint is stored in constraint.dual_value.\n",
    "print(\"optimal (x + y == 1) dual variable\", constraints[0].dual_value)\n",
    "print(\"optimal (x - y >= 1) dual variable\", constraints[1].dual_value)\n",
    "print(\"x - y value:\", (x - y).value)\n"
   ]
  }
 ],
 "metadata": {
  "kernelspec": {
   "display_name": "Python 3",
   "language": "python",
   "name": "python3"
  },
  "language_info": {
   "codemirror_mode": {
    "name": "ipython",
    "version": 3
   },
   "file_extension": ".py",
   "mimetype": "text/x-python",
   "name": "python",
   "nbconvert_exporter": "python",
   "pygments_lexer": "ipython3",
   "version": "3.11.9"
  }
 },
 "nbformat": 4,
 "nbformat_minor": 2
}
